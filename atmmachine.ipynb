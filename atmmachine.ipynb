{
 "cells": [
  {
   "cell_type": "code",
   "execution_count": 3,
   "id": "6840949d-70d1-45a5-bba2-bb672b3708b7",
   "metadata": {},
   "outputs": [
    {
     "name": "stdout",
     "output_type": "stream",
     "text": [
      "Please insert your card\n"
     ]
    },
    {
     "name": "stdin",
     "output_type": "stream",
     "text": [
      "Enter your pin 1234\n"
     ]
    },
    {
     "name": "stdout",
     "output_type": "stream",
     "text": [
      "\n",
      "            1 == balance\n",
      "            2 == withdraw balance\n",
      "            3 == deposit balnce\n",
      "            4 == exit\n",
      "            \n"
     ]
    },
    {
     "name": "stdin",
     "output_type": "stream",
     "text": [
      "Please enter your choice 1\n"
     ]
    },
    {
     "name": "stdout",
     "output_type": "stream",
     "text": [
      "your current balance is5000\n",
      "\n",
      "            1 == balance\n",
      "            2 == withdraw balance\n",
      "            3 == deposit balnce\n",
      "            4 == exit\n",
      "            \n"
     ]
    },
    {
     "name": "stdin",
     "output_type": "stream",
     "text": [
      "Please enter your choice 2\n",
      "please enter withdraw_amount 500\n"
     ]
    },
    {
     "name": "stdout",
     "output_type": "stream",
     "text": [
      "500is debited from your account\n",
      "your updated balance is 4500\n",
      "\n",
      "            1 == balance\n",
      "            2 == withdraw balance\n",
      "            3 == deposit balnce\n",
      "            4 == exit\n",
      "            \n"
     ]
    },
    {
     "name": "stdin",
     "output_type": "stream",
     "text": [
      "Please enter your choice 3\n",
      "please enter deposit_amount 500\n"
     ]
    },
    {
     "name": "stdout",
     "output_type": "stream",
     "text": [
      "500is credited  in your account\n",
      "your updated balance is 5000\n",
      "\n",
      "            1 == balance\n",
      "            2 == withdraw balance\n",
      "            3 == deposit balnce\n",
      "            4 == exit\n",
      "            \n"
     ]
    },
    {
     "name": "stdin",
     "output_type": "stream",
     "text": [
      "Please enter your choice 4\n"
     ]
    }
   ],
   "source": [
    "import time\n",
    "\n",
    "print(\"Please insert your card\")\n",
    "\n",
    "time.sleep(5)\n",
    "\n",
    "password = 1234\n",
    "\n",
    "pin=int(input(\"Enter your pin\"))\n",
    "\n",
    "balance=5000\n",
    "\n",
    "\n",
    "if pin==password:\n",
    "    while True:\n",
    "        \n",
    "        print(\"\"\"\n",
    "            1 == balance\n",
    "            2 == withdraw balance\n",
    "            3 == deposit balnce\n",
    "            4 == exit\n",
    "            \"\"\"\n",
    "             )\n",
    "        try:\n",
    "            option=int(input(\"Please enter your choice\"))\n",
    "        except:\n",
    "            print(\"Please enter valid option\")\n",
    "            \n",
    "            \n",
    "        if option==1:\n",
    "            print(f\"your current balance is{balance}\")\n",
    "            \n",
    "        if option==2:\n",
    "            withdraw_amount=int(input(\"please enter withdraw_amount\"))\n",
    "            balance=balance-withdraw_amount\n",
    "            print(f\"{withdraw_amount}is debited from your account\")\n",
    "            print(f\"your updated balance is {balance}\")\n",
    "    \n",
    "    \n",
    "        if option==3:\n",
    "            deposit_amount=int(input(\"please enter deposit_amount\"))\n",
    "            balance=balance+deposit_amount\n",
    "            print(f\"{deposit_amount}is credited  in your account\")\n",
    "            print(f\"your updated balance is {balance}\")\n",
    "    \n",
    "        if option==4:\n",
    "            break\n",
    "            \n",
    "else:\n",
    "    print(\"Wrong pin Please try again\")\n",
    "\n",
    "        \n",
    "\n",
    "        "
   ]
  },
  {
   "cell_type": "code",
   "execution_count": null,
   "id": "628ad43c-f6bf-4942-ac71-f2bb0572ab89",
   "metadata": {},
   "outputs": [],
   "source": []
  }
 ],
 "metadata": {
  "kernelspec": {
   "display_name": "Python 3 (ipykernel)",
   "language": "python",
   "name": "python3"
  },
  "language_info": {
   "codemirror_mode": {
    "name": "ipython",
    "version": 3
   },
   "file_extension": ".py",
   "mimetype": "text/x-python",
   "name": "python",
   "nbconvert_exporter": "python",
   "pygments_lexer": "ipython3",
   "version": "3.12.4"
  }
 },
 "nbformat": 4,
 "nbformat_minor": 5
}
